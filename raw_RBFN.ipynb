{
 "cells": [
  {
   "cell_type": "markdown",
   "metadata": {},
   "source": []
  },
  {
   "cell_type": "code",
   "execution_count": 2,
   "metadata": {},
   "outputs": [
    {
     "data": {
      "text/html": [
       "<div>\n",
       "<style scoped>\n",
       "    .dataframe tbody tr th:only-of-type {\n",
       "        vertical-align: middle;\n",
       "    }\n",
       "\n",
       "    .dataframe tbody tr th {\n",
       "        vertical-align: top;\n",
       "    }\n",
       "\n",
       "    .dataframe thead th {\n",
       "        text-align: right;\n",
       "    }\n",
       "</style>\n",
       "<table border=\"1\" class=\"dataframe\">\n",
       "  <thead>\n",
       "    <tr style=\"text-align: right;\">\n",
       "      <th></th>\n",
       "      <th>time_stamp</th>\n",
       "      <th>Raw_V</th>\n",
       "      <th>Processed_V</th>\n",
       "    </tr>\n",
       "  </thead>\n",
       "  <tbody>\n",
       "    <tr>\n",
       "      <th>0</th>\n",
       "      <td>1</td>\n",
       "      <td>NaN</td>\n",
       "      <td>0.000500</td>\n",
       "    </tr>\n",
       "    <tr>\n",
       "      <th>1</th>\n",
       "      <td>2</td>\n",
       "      <td>NaN</td>\n",
       "      <td>0.020000</td>\n",
       "    </tr>\n",
       "    <tr>\n",
       "      <th>2</th>\n",
       "      <td>3</td>\n",
       "      <td>NaN</td>\n",
       "      <td>0.060760</td>\n",
       "    </tr>\n",
       "    <tr>\n",
       "      <th>3</th>\n",
       "      <td>4</td>\n",
       "      <td>NaN</td>\n",
       "      <td>0.176903</td>\n",
       "    </tr>\n",
       "    <tr>\n",
       "      <th>4</th>\n",
       "      <td>5</td>\n",
       "      <td>NaN</td>\n",
       "      <td>0.451162</td>\n",
       "    </tr>\n",
       "  </tbody>\n",
       "</table>\n",
       "</div>"
      ],
      "text/plain": [
       "   time_stamp  Raw_V  Processed_V\n",
       "0           1    NaN     0.000500\n",
       "1           2    NaN     0.020000\n",
       "2           3    NaN     0.060760\n",
       "3           4    NaN     0.176903\n",
       "4           5    NaN     0.451162"
      ]
     },
     "execution_count": 2,
     "metadata": {},
     "output_type": "execute_result"
    }
   ],
   "source": [
    "import pandas as pd\n",
    "import xlrd \n",
    "import numpy as np\n",
    "import sklearn\n",
    "import matplotlib.pyplot as plt\n",
    "%matplotlib inline\n",
    "from sklearn.decomposition import PCA\n",
    "from sklearn.preprocessing import StandardScaler\n",
    "from sklearn.cluster import KMeans\n",
    "\n",
    "\n",
    "\n",
    "  \n",
    "data_1 = pd.read_excel('D:/BTP/Dataset/VA2_1_normal#2_EEGns04MP_FP2_EC_18601_20600_es_sm.xlsx')\n",
    "\n",
    "data_2 = pd.read_excel('D:/BTP/Dataset/VA1_1_gen-epy_50898_FP2_EYES CLOSED_39353_41352_es_sm.xlsx')\n",
    "\n",
    "data= pd.concat([data_1, data_2])\n",
    "#data = pd.read_excel('D:/BTP/Dataset/consol+data.xlsx')\n",
    "\n",
    "data.columns = ['time_stamp' , 'Raw_V', 'Processed_V']\n",
    "\n",
    "\n",
    "data.head()"
   ]
  },
  {
   "cell_type": "code",
   "execution_count": 4,
   "metadata": {},
   "outputs": [],
   "source": [
    "data_considered1 = data['Raw_V'][2001:4001]"
   ]
  },
  {
   "cell_type": "code",
   "execution_count": 5,
   "metadata": {},
   "outputs": [
    {
     "data": {
      "text/plain": [
       "2000"
      ]
     },
     "execution_count": 5,
     "metadata": {},
     "output_type": "execute_result"
    }
   ],
   "source": [
    "len(data_considered1)"
   ]
  },
  {
   "cell_type": "code",
   "execution_count": 6,
   "metadata": {},
   "outputs": [],
   "source": [
    "data_considered = data_considered1.dropna()"
   ]
  },
  {
   "cell_type": "code",
   "execution_count": 7,
   "metadata": {},
   "outputs": [],
   "source": [
    "normal_raw = data_considered\n",
    "# Segment the time series data into windows\n",
    "window_size = 50"
   ]
  },
  {
   "cell_type": "code",
   "execution_count": 8,
   "metadata": {},
   "outputs": [],
   "source": [
    "segments = [data_considered[i:i + window_size] for i in range(0, len(data_considered ) - window_size + 1)]\n"
   ]
  },
  {
   "cell_type": "code",
   "execution_count": 54,
   "metadata": {},
   "outputs": [
    {
     "name": "stdout",
     "output_type": "stream",
     "text": [
      "1950\n",
      "50\n"
     ]
    }
   ],
   "source": [
    "print(len(segments))\n",
    "print(len(segments[1]))"
   ]
  },
  {
   "cell_type": "code",
   "execution_count": 9,
   "metadata": {},
   "outputs": [],
   "source": [
    "#data_mean = []\n",
    "#data_median=[]\n",
    "#data_std= []\n",
    "#ids=[]\n",
    "#\n",
    "#for x in range(0,int(len(segments))):\n",
    "#    ids.append(x)\n",
    "#    data_mean.append(np.mean(segments[x]))\n",
    "#    data_median.append(np.median(segments[x]))\n",
    "#    data_std.append(np.std(segments[x]))"
   ]
  },
  {
   "cell_type": "code",
   "execution_count": 10,
   "metadata": {},
   "outputs": [],
   "source": [
    "data_mean = []\n",
    "data_median=[]\n",
    "data_std= []\n",
    "ids=[]\n",
    "\n",
    "for x in range(0,int(len(segments)/2)):\n",
    "    ids.append(x)\n",
    "    data_mean.append(np.mean(segments[x]))\n",
    "    data_median.append(np.median(segments[x]))\n",
    "    data_std.append(np.std(segments[x]))"
   ]
  },
  {
   "cell_type": "code",
   "execution_count": 11,
   "metadata": {},
   "outputs": [
    {
     "data": {
      "image/png": "[encoded data removed]",
      "text/plain": [
       "<Figure size 1000x600 with 1 Axes>"
      ]
     },
     "metadata": {},
     "output_type": "display_data"
    }
   ],
   "source": [
    "plt.figure(figsize=(10, 6))\n",
    "#plt.scatter(data_mean, ids, data_median, ids)\n",
    "plt.plot(ids, data_mean, label = 'mean')\n",
    "plt.plot(ids, data_median, label = 'median')\n",
    "plt.plot(ids, data_std, label = 'deviation')\n",
    "plt.xlabel('means')\n",
    "plt.ylabel('ids')\n",
    "plt.legend(['mean', 'median', 'deviation'], loc='upper left')\n",
    "plt.grid(True)\n",
    "\n",
    "\n",
    "plt.show()"
   ]
  },
  {
   "cell_type": "code",
   "execution_count": 12,
   "metadata": {},
   "outputs": [],
   "source": [
    "epy_mean = []\n",
    "epy_median=[]\n",
    "epy_std= []\n",
    "ids=[]\n",
    "\n",
    "for x in range(int(len(segments)/2), len(segments)):\n",
    "    ids.append(x)\n",
    "    epy_mean.append(np.mean(segments[x]))\n",
    "    epy_median.append(np.median(segments[x]))\n",
    "    epy_std.append(np.std(segments[x]))"
   ]
  },
  {
   "cell_type": "code",
   "execution_count": 13,
   "metadata": {},
   "outputs": [
    {
     "data": {
      "image/png": "[encoded data removed]",
      "text/plain": [
       "<Figure size 1000x600 with 1 Axes>"
      ]
     },
     "metadata": {},
     "output_type": "display_data"
    }
   ],
   "source": [
    "plt.figure(figsize=(10, 6))\n",
    "#plt.scatter(data_mean, ids, data_median, ids)\n",
    "plt.plot(ids, epy_mean, label = 'mean')\n",
    "plt.plot(ids, epy_median, label = 'median')\n",
    "plt.plot(ids, epy_std, label = 'deviation')\n",
    "plt.xlabel('means')\n",
    "plt.ylabel('ids')\n",
    "plt.legend(['mean', 'median', 'deviation'], loc='upper left')\n",
    "plt.grid(True)\n",
    "\n",
    "\n",
    "plt.show()"
   ]
  },
  {
   "cell_type": "code",
   "execution_count": 14,
   "metadata": {},
   "outputs": [],
   "source": [
    "result_mean = []\n",
    "result_median=[]\n",
    "result_std= []\n",
    "segment_ids=[]\n",
    "for x in range(0,len(segments)):\n",
    "    segment_ids.append(x)\n",
    "    result_mean.append(np.mean(segments[x]))\n",
    "    result_median.append(np.median(segments[x]))\n",
    "    result_std.append(np.std(segments[x]))\n",
    "\n",
    "#len(result_mean)"
   ]
  },
  {
   "cell_type": "markdown",
   "metadata": {},
   "source": [
    "Feature Extraction"
   ]
  },
  {
   "cell_type": "code",
   "execution_count": 15,
   "metadata": {},
   "outputs": [],
   "source": [
    "segment_stat_inferences = pd.DataFrame({\n",
    "    'Segment_idx':segment_ids,\n",
    "    'Mean': result_mean,\n",
    "    'Median':result_median,\n",
    "    'Std Deviation': result_std,\n",
    "    \n",
    "})"
   ]
  },
  {
   "cell_type": "code",
   "execution_count": 16,
   "metadata": {},
   "outputs": [
    {
     "data": {
      "text/plain": [
       "0.06544178455885509"
      ]
     },
     "execution_count": 16,
     "metadata": {},
     "output_type": "execute_result"
    }
   ],
   "source": [
    "segment_stat_inferences['Mean'][0]"
   ]
  },
  {
   "cell_type": "code",
   "execution_count": 17,
   "metadata": {},
   "outputs": [
    {
     "data": {
      "text/html": [
       "<div>\n",
       "<style scoped>\n",
       "    .dataframe tbody tr th:only-of-type {\n",
       "        vertical-align: middle;\n",
       "    }\n",
       "\n",
       "    .dataframe tbody tr th {\n",
       "        vertical-align: top;\n",
       "    }\n",
       "\n",
       "    .dataframe thead th {\n",
       "        text-align: right;\n",
       "    }\n",
       "</style>\n",
       "<table border=\"1\" class=\"dataframe\">\n",
       "  <thead>\n",
       "    <tr style=\"text-align: right;\">\n",
       "      <th></th>\n",
       "      <th>Segment_idx</th>\n",
       "      <th>Mean</th>\n",
       "      <th>Median</th>\n",
       "      <th>Std Deviation</th>\n",
       "    </tr>\n",
       "  </thead>\n",
       "  <tbody>\n",
       "    <tr>\n",
       "      <th>0</th>\n",
       "      <td>0</td>\n",
       "      <td>0.065442</td>\n",
       "      <td>0.065311</td>\n",
       "      <td>0.000855</td>\n",
       "    </tr>\n",
       "    <tr>\n",
       "      <th>1</th>\n",
       "      <td>1</td>\n",
       "      <td>0.065498</td>\n",
       "      <td>0.065388</td>\n",
       "      <td>0.000890</td>\n",
       "    </tr>\n",
       "    <tr>\n",
       "      <th>2</th>\n",
       "      <td>2</td>\n",
       "      <td>0.065531</td>\n",
       "      <td>0.065410</td>\n",
       "      <td>0.000887</td>\n",
       "    </tr>\n",
       "    <tr>\n",
       "      <th>3</th>\n",
       "      <td>3</td>\n",
       "      <td>0.065522</td>\n",
       "      <td>0.065388</td>\n",
       "      <td>0.000891</td>\n",
       "    </tr>\n",
       "    <tr>\n",
       "      <th>4</th>\n",
       "      <td>4</td>\n",
       "      <td>0.065514</td>\n",
       "      <td>0.065388</td>\n",
       "      <td>0.000890</td>\n",
       "    </tr>\n",
       "  </tbody>\n",
       "</table>\n",
       "</div>"
      ],
      "text/plain": [
       "   Segment_idx      Mean    Median  Std Deviation\n",
       "0            0  0.065442  0.065311       0.000855\n",
       "1            1  0.065498  0.065388       0.000890\n",
       "2            2  0.065531  0.065410       0.000887\n",
       "3            3  0.065522  0.065388       0.000891\n",
       "4            4  0.065514  0.065388       0.000890"
      ]
     },
     "execution_count": 17,
     "metadata": {},
     "output_type": "execute_result"
    }
   ],
   "source": [
    "segment_stat_inferences.head()"
   ]
  },
  {
   "cell_type": "code",
   "execution_count": 18,
   "metadata": {},
   "outputs": [
    {
     "data": {
      "text/html": [
       "<div>\n",
       "<style scoped>\n",
       "    .dataframe tbody tr th:only-of-type {\n",
       "        vertical-align: middle;\n",
       "    }\n",
       "\n",
       "    .dataframe tbody tr th {\n",
       "        vertical-align: top;\n",
       "    }\n",
       "\n",
       "    .dataframe thead th {\n",
       "        text-align: right;\n",
       "    }\n",
       "</style>\n",
       "<table border=\"1\" class=\"dataframe\">\n",
       "  <thead>\n",
       "    <tr style=\"text-align: right;\">\n",
       "      <th></th>\n",
       "      <th>Segment_idx</th>\n",
       "      <th>Mean</th>\n",
       "      <th>Median</th>\n",
       "      <th>Std Deviation</th>\n",
       "    </tr>\n",
       "  </thead>\n",
       "  <tbody>\n",
       "    <tr>\n",
       "      <th>1945</th>\n",
       "      <td>1945</td>\n",
       "      <td>0.006209</td>\n",
       "      <td>0.005648</td>\n",
       "      <td>0.005549</td>\n",
       "    </tr>\n",
       "    <tr>\n",
       "      <th>1946</th>\n",
       "      <td>1946</td>\n",
       "      <td>0.005959</td>\n",
       "      <td>0.005648</td>\n",
       "      <td>0.005907</td>\n",
       "    </tr>\n",
       "    <tr>\n",
       "      <th>1947</th>\n",
       "      <td>1947</td>\n",
       "      <td>0.005669</td>\n",
       "      <td>0.005648</td>\n",
       "      <td>0.006271</td>\n",
       "    </tr>\n",
       "    <tr>\n",
       "      <th>1948</th>\n",
       "      <td>1948</td>\n",
       "      <td>0.005360</td>\n",
       "      <td>0.005566</td>\n",
       "      <td>0.006643</td>\n",
       "    </tr>\n",
       "    <tr>\n",
       "      <th>1949</th>\n",
       "      <td>1949</td>\n",
       "      <td>0.005037</td>\n",
       "      <td>0.005566</td>\n",
       "      <td>0.007040</td>\n",
       "    </tr>\n",
       "  </tbody>\n",
       "</table>\n",
       "</div>"
      ],
      "text/plain": [
       "      Segment_idx      Mean    Median  Std Deviation\n",
       "1945         1945  0.006209  0.005648       0.005549\n",
       "1946         1946  0.005959  0.005648       0.005907\n",
       "1947         1947  0.005669  0.005648       0.006271\n",
       "1948         1948  0.005360  0.005566       0.006643\n",
       "1949         1949  0.005037  0.005566       0.007040"
      ]
     },
     "execution_count": 18,
     "metadata": {},
     "output_type": "execute_result"
    }
   ],
   "source": [
    "segment_stat_inferences.tail()\n",
    "    "
   ]
  },
  {
   "cell_type": "code",
   "execution_count": 19,
   "metadata": {},
   "outputs": [
    {
     "data": {
      "text/html": [
       "<div>\n",
       "<style scoped>\n",
       "    .dataframe tbody tr th:only-of-type {\n",
       "        vertical-align: middle;\n",
       "    }\n",
       "\n",
       "    .dataframe tbody tr th {\n",
       "        vertical-align: top;\n",
       "    }\n",
       "\n",
       "    .dataframe thead th {\n",
       "        text-align: right;\n",
       "    }\n",
       "</style>\n",
       "<table border=\"1\" class=\"dataframe\">\n",
       "  <thead>\n",
       "    <tr style=\"text-align: right;\">\n",
       "      <th></th>\n",
       "      <th>Mean</th>\n",
       "      <th>Median</th>\n",
       "      <th>Std Deviation</th>\n",
       "    </tr>\n",
       "  </thead>\n",
       "  <tbody>\n",
       "    <tr>\n",
       "      <th>0</th>\n",
       "      <td>0.065442</td>\n",
       "      <td>0.065311</td>\n",
       "      <td>0.000855</td>\n",
       "    </tr>\n",
       "    <tr>\n",
       "      <th>1</th>\n",
       "      <td>0.065498</td>\n",
       "      <td>0.065388</td>\n",
       "      <td>0.000890</td>\n",
       "    </tr>\n",
       "    <tr>\n",
       "      <th>2</th>\n",
       "      <td>0.065531</td>\n",
       "      <td>0.065410</td>\n",
       "      <td>0.000887</td>\n",
       "    </tr>\n",
       "    <tr>\n",
       "      <th>3</th>\n",
       "      <td>0.065522</td>\n",
       "      <td>0.065388</td>\n",
       "      <td>0.000891</td>\n",
       "    </tr>\n",
       "    <tr>\n",
       "      <th>4</th>\n",
       "      <td>0.065514</td>\n",
       "      <td>0.065388</td>\n",
       "      <td>0.000890</td>\n",
       "    </tr>\n",
       "  </tbody>\n",
       "</table>\n",
       "</div>"
      ],
      "text/plain": [
       "       Mean    Median  Std Deviation\n",
       "0  0.065442  0.065311       0.000855\n",
       "1  0.065498  0.065388       0.000890\n",
       "2  0.065531  0.065410       0.000887\n",
       "3  0.065522  0.065388       0.000891\n",
       "4  0.065514  0.065388       0.000890"
      ]
     },
     "execution_count": 19,
     "metadata": {},
     "output_type": "execute_result"
    }
   ],
   "source": [
    "feature_for_segment = ['Mean','Median','Std Deviation']\n",
    "segment_stat_inferences[feature_for_segment].head()"
   ]
  },
  {
   "cell_type": "code",
   "execution_count": 20,
   "metadata": {},
   "outputs": [
    {
     "data": {
      "text/html": [
       "<div>\n",
       "<style scoped>\n",
       "    .dataframe tbody tr th:only-of-type {\n",
       "        vertical-align: middle;\n",
       "    }\n",
       "\n",
       "    .dataframe tbody tr th {\n",
       "        vertical-align: top;\n",
       "    }\n",
       "\n",
       "    .dataframe thead th {\n",
       "        text-align: right;\n",
       "    }\n",
       "</style>\n",
       "<table border=\"1\" class=\"dataframe\">\n",
       "  <thead>\n",
       "    <tr style=\"text-align: right;\">\n",
       "      <th></th>\n",
       "      <th>Mean</th>\n",
       "      <th>Median</th>\n",
       "      <th>Std Deviation</th>\n",
       "    </tr>\n",
       "  </thead>\n",
       "  <tbody>\n",
       "    <tr>\n",
       "      <th>0</th>\n",
       "      <td>0.065442</td>\n",
       "      <td>0.065311</td>\n",
       "      <td>0.000855</td>\n",
       "    </tr>\n",
       "    <tr>\n",
       "      <th>1</th>\n",
       "      <td>0.065498</td>\n",
       "      <td>0.065388</td>\n",
       "      <td>0.000890</td>\n",
       "    </tr>\n",
       "    <tr>\n",
       "      <th>2</th>\n",
       "      <td>0.065531</td>\n",
       "      <td>0.065410</td>\n",
       "      <td>0.000887</td>\n",
       "    </tr>\n",
       "    <tr>\n",
       "      <th>3</th>\n",
       "      <td>0.065522</td>\n",
       "      <td>0.065388</td>\n",
       "      <td>0.000891</td>\n",
       "    </tr>\n",
       "    <tr>\n",
       "      <th>4</th>\n",
       "      <td>0.065514</td>\n",
       "      <td>0.065388</td>\n",
       "      <td>0.000890</td>\n",
       "    </tr>\n",
       "    <tr>\n",
       "      <th>...</th>\n",
       "      <td>...</td>\n",
       "      <td>...</td>\n",
       "      <td>...</td>\n",
       "    </tr>\n",
       "    <tr>\n",
       "      <th>1945</th>\n",
       "      <td>0.006209</td>\n",
       "      <td>0.005648</td>\n",
       "      <td>0.005549</td>\n",
       "    </tr>\n",
       "    <tr>\n",
       "      <th>1946</th>\n",
       "      <td>0.005959</td>\n",
       "      <td>0.005648</td>\n",
       "      <td>0.005907</td>\n",
       "    </tr>\n",
       "    <tr>\n",
       "      <th>1947</th>\n",
       "      <td>0.005669</td>\n",
       "      <td>0.005648</td>\n",
       "      <td>0.006271</td>\n",
       "    </tr>\n",
       "    <tr>\n",
       "      <th>1948</th>\n",
       "      <td>0.005360</td>\n",
       "      <td>0.005566</td>\n",
       "      <td>0.006643</td>\n",
       "    </tr>\n",
       "    <tr>\n",
       "      <th>1949</th>\n",
       "      <td>0.005037</td>\n",
       "      <td>0.005566</td>\n",
       "      <td>0.007040</td>\n",
       "    </tr>\n",
       "  </tbody>\n",
       "</table>\n",
       "<p>1950 rows × 3 columns</p>\n",
       "</div>"
      ],
      "text/plain": [
       "          Mean    Median  Std Deviation\n",
       "0     0.065442  0.065311       0.000855\n",
       "1     0.065498  0.065388       0.000890\n",
       "2     0.065531  0.065410       0.000887\n",
       "3     0.065522  0.065388       0.000891\n",
       "4     0.065514  0.065388       0.000890\n",
       "...        ...       ...            ...\n",
       "1945  0.006209  0.005648       0.005549\n",
       "1946  0.005959  0.005648       0.005907\n",
       "1947  0.005669  0.005648       0.006271\n",
       "1948  0.005360  0.005566       0.006643\n",
       "1949  0.005037  0.005566       0.007040\n",
       "\n",
       "[1950 rows x 3 columns]"
      ]
     },
     "execution_count": 20,
     "metadata": {},
     "output_type": "execute_result"
    }
   ],
   "source": [
    "segment_stat_inferences[feature_for_segment]"
   ]
  },
  {
   "cell_type": "code",
   "execution_count": 57,
   "metadata": {},
   "outputs": [
    {
     "data": {
      "text/plain": [
       "array([1000, -0.02156844537705183, -0.022569438442587852,\n",
       "       0.003061262578999612, 'epy'], dtype=object)"
      ]
     },
     "execution_count": 57,
     "metadata": {},
     "output_type": "execute_result"
    }
   ],
   "source": [
    "segment_stat_inferences.values[1000]"
   ]
  },
  {
   "cell_type": "code",
   "execution_count": 21,
   "metadata": {},
   "outputs": [
    {
     "name": "stderr",
     "output_type": "stream",
     "text": [
      "C:\\Users\\HP\\AppData\\Local\\Temp\\ipykernel_29552\\2252171010.py:4: SettingWithCopyWarning: \n",
      "A value is trying to be set on a copy of a slice from a DataFrame\n",
      "\n",
      "See the caveats in the documentation: https://pandas.pydata.org/pandas-docs/stable/user_guide/indexing.html#returning-a-view-versus-a-copy\n",
      "  segment_stat_inferences['label'][i] = 'normal'\n",
      "C:\\Users\\HP\\AppData\\Local\\Temp\\ipykernel_29552\\2252171010.py:6: SettingWithCopyWarning: \n",
      "A value is trying to be set on a copy of a slice from a DataFrame\n",
      "\n",
      "See the caveats in the documentation: https://pandas.pydata.org/pandas-docs/stable/user_guide/indexing.html#returning-a-view-versus-a-copy\n",
      "  segment_stat_inferences['label'][i]= 'epy'\n"
     ]
    }
   ],
   "source": [
    "segment_stat_inferences['label']= ''\n",
    "for i in range(0, len(segment_stat_inferences)):\n",
    "    if segment_stat_inferences['Segment_idx'][i] < 1000:\n",
    "        segment_stat_inferences['label'][i] = 'normal'\n",
    "    else:\n",
    "        segment_stat_inferences['label'][i]= 'epy'"
   ]
  },
  {
   "cell_type": "code",
   "execution_count": 22,
   "metadata": {},
   "outputs": [],
   "source": [
    "df= segment_stat_inferences.sample(frac = 1, random_state = 5).reset_index(drop = True)"
   ]
  },
  {
   "cell_type": "code",
   "execution_count": 23,
   "metadata": {},
   "outputs": [
    {
     "data": {
      "text/plain": [
       "0    normal\n",
       "1    normal\n",
       "2    normal\n",
       "3    normal\n",
       "4    normal\n",
       "Name: label, dtype: object"
      ]
     },
     "execution_count": 23,
     "metadata": {},
     "output_type": "execute_result"
    }
   ],
   "source": [
    "segment_stat_inferences['label'][0:5]"
   ]
  },
  {
   "cell_type": "code",
   "execution_count": 24,
   "metadata": {},
   "outputs": [
    {
     "data": {
      "text/plain": [
       "0    normal\n",
       "1       epy\n",
       "2    normal\n",
       "3       epy\n",
       "4       epy\n",
       "Name: label, dtype: object"
      ]
     },
     "execution_count": 24,
     "metadata": {},
     "output_type": "execute_result"
    }
   ],
   "source": [
    "df['label'][0:5]"
   ]
  },
  {
   "cell_type": "markdown",
   "metadata": {},
   "source": [
    "RBFN"
   ]
  },
  {
   "cell_type": "code",
   "execution_count": 25,
   "metadata": {},
   "outputs": [],
   "source": [
    "import pandas as pd\n",
    "from sklearn.model_selection import train_test_split\n",
    "from sklearn.preprocessing import LabelEncoder, StandardScaler\n",
    "\n",
    "X =  segment_stat_inferences[feature_for_segment].values\n",
    "y =  segment_stat_inferences['label'].values\n",
    "\n",
    "# Encode labels (if needed)\n",
    "label_encoder = LabelEncoder()\n",
    "y = label_encoder.fit_transform(y)\n",
    "\n",
    "# Split data into training and testing sets\n",
    "X_train, X_test, y_train, y_test = train_test_split(X, y, test_size=0.2, random_state=42)\n",
    "\n",
    "# Standardize the features (mean=0, variance=1)\n",
    "scaler = StandardScaler()\n",
    "X_train = scaler.fit_transform(X_train)\n",
    "X_test = scaler.transform(X_test)"
   ]
  },
  {
   "cell_type": "code",
   "execution_count": 26,
   "metadata": {},
   "outputs": [
    {
     "data": {
      "text/html": [
       "<div>\n",
       "<style scoped>\n",
       "    .dataframe tbody tr th:only-of-type {\n",
       "        vertical-align: middle;\n",
       "    }\n",
       "\n",
       "    .dataframe tbody tr th {\n",
       "        vertical-align: top;\n",
       "    }\n",
       "\n",
       "    .dataframe thead th {\n",
       "        text-align: right;\n",
       "    }\n",
       "</style>\n",
       "<table border=\"1\" class=\"dataframe\">\n",
       "  <thead>\n",
       "    <tr style=\"text-align: right;\">\n",
       "      <th></th>\n",
       "      <th>0</th>\n",
       "    </tr>\n",
       "  </thead>\n",
       "  <tbody>\n",
       "    <tr>\n",
       "      <th>count</th>\n",
       "      <td>1560</td>\n",
       "    </tr>\n",
       "    <tr>\n",
       "      <th>unique</th>\n",
       "      <td>2</td>\n",
       "    </tr>\n",
       "    <tr>\n",
       "      <th>top</th>\n",
       "      <td>epy</td>\n",
       "    </tr>\n",
       "    <tr>\n",
       "      <th>freq</th>\n",
       "      <td>798</td>\n",
       "    </tr>\n",
       "  </tbody>\n",
       "</table>\n",
       "</div>"
      ],
      "text/plain": [
       "           0\n",
       "count   1560\n",
       "unique     2\n",
       "top      epy\n",
       "freq     798"
      ]
     },
     "execution_count": 26,
     "metadata": {},
     "output_type": "execute_result"
    }
   ],
   "source": [
    "count = []\n",
    "for i in range(len(y_train)):\n",
    "    if(y_train[i]==0):\n",
    "        count.append('normal')  \n",
    "    else:\n",
    "        count.append('epy')\n",
    "df_values = pd.DataFrame(pd.Series(count))\n",
    "\n",
    "df_values.describe()\n",
    "\n",
    "\n",
    "# so out of 2000 data points, 1560 points were taken as training sets, out of which class imbalance can be seen as epy appears 798 times \n",
    "# but normal appears 762 times."
   ]
  },
  {
   "cell_type": "code",
   "execution_count": 27,
   "metadata": {},
   "outputs": [
    {
     "data": {
      "text/plain": [
       "array([[ 1.06505354,  1.05183898, -0.57261369],\n",
       "       [ 0.82943001,  0.81415557, -0.52770547],\n",
       "       [-0.8422743 , -0.76251475,  0.10451051],\n",
       "       [-1.03105444, -1.02949113, -0.20407912],\n",
       "       [ 1.01716389,  0.98939714, -0.42525786]])"
      ]
     },
     "execution_count": 27,
     "metadata": {},
     "output_type": "execute_result"
    }
   ],
   "source": [
    "X_train[0:5]"
   ]
  },
  {
   "cell_type": "code",
   "execution_count": 109,
   "metadata": {},
   "outputs": [
    {
     "data": {
      "text/plain": [
       "array([ 1.06505354,  1.05183898, -0.57261369])"
      ]
     },
     "execution_count": 109,
     "metadata": {},
     "output_type": "execute_result"
    }
   ],
   "source": [
    "X_train[0]"
   ]
  },
  {
   "cell_type": "code",
   "execution_count": 31,
   "metadata": {},
   "outputs": [],
   "source": [
    "import tensorflow as tf\n",
    "from tensorflow.keras.layers import Layer\n",
    "import numpy as np\n",
    "\n",
    "class RBFLayer(Layer):\n",
    "    def __init__(self, units, gamma=None, **kwargs):\n",
    "        super(RBFLayer, self).__init__(**kwargs)\n",
    "        self.units = units\n",
    "        self.gamma = gamma\n",
    "\n",
    "    def build(self, input_shape):\n",
    "        self.centers = self.add_weight(name='centers',\n",
    "                                       shape=(self.units, input_shape[-1]),\n",
    "                                       initializer='random_uniform',\n",
    "                                       trainable=True)\n",
    "        self.betas = self.add_weight(name='betas',\n",
    "                                     shape=(self.units,),\n",
    "                                     initializer='ones',\n",
    "                                     trainable=True)\n",
    "\n",
    "    def call(self, inputs):\n",
    "        # Compute the Gaussian radial basis function\n",
    "        C = tf.expand_dims(self.centers, axis=0)\n",
    "        X = tf.expand_dims(inputs, axis=1)\n",
    "        diff = X - C\n",
    "        l2 = tf.reduce_sum(tf.square(diff), axis=-1)\n",
    "        return tf.exp(-self.betas * l2)\n",
    "\n"
   ]
  },
  {
   "cell_type": "code",
   "execution_count": 32,
   "metadata": {},
   "outputs": [],
   "source": [
    "from tensorflow.keras.models import Sequential\n",
    "from tensorflow.keras.layers import Dense\n",
    "\n",
    "model = Sequential()\n",
    "\n",
    "\n",
    "model.add(RBFLayer(10, input_shape=(X_train.shape[1],)))\n",
    "\n",
    "model.add(Dense(1, activation='sigmoid'))  # Use 'softmax' for multi-class\n",
    "\n",
    "# Compile the model\n",
    "model.compile(optimizer='adam', loss='binary_crossentropy', metrics=['accuracy'])\n"
   ]
  },
  {
   "cell_type": "code",
   "execution_count": 33,
   "metadata": {},
   "outputs": [
    {
     "data": {
      "text/plain": [
       "3"
      ]
     },
     "execution_count": 33,
     "metadata": {},
     "output_type": "execute_result"
    }
   ],
   "source": [
    "X_train.shape[1]"
   ]
  },
  {
   "cell_type": "code",
   "execution_count": 34,
   "metadata": {},
   "outputs": [
    {
     "name": "stdout",
     "output_type": "stream",
     "text": [
      "Epoch 1/50\n",
      "520/520 [==============================] - 2s 2ms/step - loss: 0.4791 - accuracy: 0.8750 - val_loss: 0.2230 - val_accuracy: 0.9718\n",
      "Epoch 2/50\n",
      "520/520 [==============================] - 1s 2ms/step - loss: 0.1352 - accuracy: 0.9756 - val_loss: 0.0815 - val_accuracy: 0.9718\n",
      "Epoch 3/50\n",
      "520/520 [==============================] - 1s 2ms/step - loss: 0.0620 - accuracy: 0.9756 - val_loss: 0.0562 - val_accuracy: 0.9718\n",
      "Epoch 4/50\n",
      "520/520 [==============================] - 1s 2ms/step - loss: 0.0442 - accuracy: 0.9756 - val_loss: 0.0475 - val_accuracy: 0.9718\n",
      "Epoch 5/50\n",
      "520/520 [==============================] - 1s 2ms/step - loss: 0.0367 - accuracy: 0.9756 - val_loss: 0.0434 - val_accuracy: 0.9718\n",
      "Epoch 6/50\n",
      "520/520 [==============================] - 1s 2ms/step - loss: 0.0324 - accuracy: 0.9756 - val_loss: 0.0405 - val_accuracy: 0.9718\n",
      "Epoch 7/50\n",
      "520/520 [==============================] - 1s 2ms/step - loss: 0.0293 - accuracy: 0.9756 - val_loss: 0.0384 - val_accuracy: 0.9718\n",
      "Epoch 8/50\n",
      "520/520 [==============================] - 2s 4ms/step - loss: 0.0269 - accuracy: 0.9756 - val_loss: 0.0366 - val_accuracy: 0.9718\n",
      "Epoch 9/50\n",
      "520/520 [==============================] - 2s 4ms/step - loss: 0.0249 - accuracy: 0.9801 - val_loss: 0.0350 - val_accuracy: 0.9923\n",
      "Epoch 10/50\n",
      "520/520 [==============================] - 2s 3ms/step - loss: 0.0231 - accuracy: 0.9936 - val_loss: 0.0337 - val_accuracy: 0.9923\n",
      "Epoch 11/50\n",
      "520/520 [==============================] - 2s 4ms/step - loss: 0.0215 - accuracy: 0.9955 - val_loss: 0.0327 - val_accuracy: 0.9949\n",
      "Epoch 12/50\n",
      "520/520 [==============================] - 2s 3ms/step - loss: 0.0200 - accuracy: 0.9955 - val_loss: 0.0318 - val_accuracy: 0.9949\n",
      "Epoch 13/50\n",
      "520/520 [==============================] - 2s 4ms/step - loss: 0.0187 - accuracy: 0.9968 - val_loss: 0.0305 - val_accuracy: 0.9949\n",
      "Epoch 14/50\n",
      "520/520 [==============================] - 2s 4ms/step - loss: 0.0175 - accuracy: 0.9981 - val_loss: 0.0295 - val_accuracy: 0.9949\n",
      "Epoch 15/50\n",
      "520/520 [==============================] - 2s 4ms/step - loss: 0.0164 - accuracy: 0.9987 - val_loss: 0.0284 - val_accuracy: 0.9949\n",
      "Epoch 16/50\n",
      "520/520 [==============================] - 1s 3ms/step - loss: 0.0154 - accuracy: 0.9987 - val_loss: 0.0277 - val_accuracy: 0.9949\n",
      "Epoch 17/50\n",
      "520/520 [==============================] - 1s 3ms/step - loss: 0.0144 - accuracy: 0.9987 - val_loss: 0.0273 - val_accuracy: 0.9949\n",
      "Epoch 18/50\n",
      "520/520 [==============================] - 1s 1ms/step - loss: 0.0136 - accuracy: 0.9987 - val_loss: 0.0264 - val_accuracy: 0.9949\n",
      "Epoch 19/50\n",
      "520/520 [==============================] - 1s 2ms/step - loss: 0.0128 - accuracy: 0.9987 - val_loss: 0.0259 - val_accuracy: 0.9949\n",
      "Epoch 20/50\n",
      "520/520 [==============================] - 1s 1ms/step - loss: 0.0121 - accuracy: 0.9987 - val_loss: 0.0251 - val_accuracy: 0.9949\n",
      "Epoch 21/50\n",
      "520/520 [==============================] - 1s 2ms/step - loss: 0.0114 - accuracy: 0.9994 - val_loss: 0.0250 - val_accuracy: 0.9949\n",
      "Epoch 22/50\n",
      "520/520 [==============================] - 1s 2ms/step - loss: 0.0108 - accuracy: 0.9994 - val_loss: 0.0247 - val_accuracy: 0.9949\n",
      "Epoch 23/50\n",
      "520/520 [==============================] - 1s 2ms/step - loss: 0.0103 - accuracy: 0.9994 - val_loss: 0.0242 - val_accuracy: 0.9949\n",
      "Epoch 24/50\n",
      "520/520 [==============================] - 1s 2ms/step - loss: 0.0098 - accuracy: 0.9994 - val_loss: 0.0235 - val_accuracy: 0.9949\n",
      "Epoch 25/50\n",
      "520/520 [==============================] - 1s 1ms/step - loss: 0.0093 - accuracy: 0.9994 - val_loss: 0.0234 - val_accuracy: 0.9949\n",
      "Epoch 26/50\n",
      "520/520 [==============================] - 1s 2ms/step - loss: 0.0089 - accuracy: 0.9994 - val_loss: 0.0234 - val_accuracy: 0.9949\n",
      "Epoch 27/50\n",
      "520/520 [==============================] - 1s 2ms/step - loss: 0.0085 - accuracy: 0.9994 - val_loss: 0.0228 - val_accuracy: 0.9949\n",
      "Epoch 28/50\n",
      "520/520 [==============================] - 2s 4ms/step - loss: 0.0082 - accuracy: 0.9994 - val_loss: 0.0221 - val_accuracy: 0.9949\n",
      "Epoch 29/50\n",
      "520/520 [==============================] - 2s 4ms/step - loss: 0.0078 - accuracy: 0.9994 - val_loss: 0.0221 - val_accuracy: 0.9949\n",
      "Epoch 30/50\n",
      "520/520 [==============================] - 2s 3ms/step - loss: 0.0075 - accuracy: 0.9994 - val_loss: 0.0222 - val_accuracy: 0.9949\n",
      "Epoch 31/50\n",
      "520/520 [==============================] - 2s 3ms/step - loss: 0.0072 - accuracy: 0.9994 - val_loss: 0.0216 - val_accuracy: 0.9949\n",
      "Epoch 32/50\n",
      "520/520 [==============================] - 2s 4ms/step - loss: 0.0070 - accuracy: 0.9994 - val_loss: 0.0214 - val_accuracy: 0.9949\n",
      "Epoch 33/50\n",
      "520/520 [==============================] - 2s 4ms/step - loss: 0.0067 - accuracy: 0.9994 - val_loss: 0.0215 - val_accuracy: 0.9949\n",
      "Epoch 34/50\n",
      "520/520 [==============================] - 2s 3ms/step - loss: 0.0065 - accuracy: 0.9994 - val_loss: 0.0210 - val_accuracy: 0.9949\n",
      "Epoch 35/50\n",
      "520/520 [==============================] - 2s 3ms/step - loss: 0.0063 - accuracy: 0.9994 - val_loss: 0.0212 - val_accuracy: 0.9949\n",
      "Epoch 36/50\n",
      "520/520 [==============================] - 2s 3ms/step - loss: 0.0062 - accuracy: 0.9994 - val_loss: 0.0207 - val_accuracy: 0.9949\n",
      "Epoch 37/50\n",
      "520/520 [==============================] - 1s 3ms/step - loss: 0.0060 - accuracy: 0.9994 - val_loss: 0.0208 - val_accuracy: 0.9949\n",
      "Epoch 38/50\n",
      "520/520 [==============================] - 1s 2ms/step - loss: 0.0058 - accuracy: 0.9994 - val_loss: 0.0205 - val_accuracy: 0.9949\n",
      "Epoch 39/50\n",
      "520/520 [==============================] - 1s 2ms/step - loss: 0.0057 - accuracy: 0.9994 - val_loss: 0.0206 - val_accuracy: 0.9949\n",
      "Epoch 40/50\n",
      "520/520 [==============================] - 1s 2ms/step - loss: 0.0056 - accuracy: 0.9994 - val_loss: 0.0205 - val_accuracy: 0.9949\n",
      "Epoch 41/50\n",
      "520/520 [==============================] - 1s 2ms/step - loss: 0.0054 - accuracy: 0.9994 - val_loss: 0.0208 - val_accuracy: 0.9949\n",
      "Epoch 42/50\n",
      "520/520 [==============================] - 1s 2ms/step - loss: 0.0053 - accuracy: 0.9994 - val_loss: 0.0211 - val_accuracy: 0.9949\n",
      "Epoch 43/50\n",
      "520/520 [==============================] - 1s 2ms/step - loss: 0.0052 - accuracy: 0.9994 - val_loss: 0.0206 - val_accuracy: 0.9949\n",
      "Epoch 44/50\n",
      "520/520 [==============================] - 1s 2ms/step - loss: 0.0051 - accuracy: 0.9994 - val_loss: 0.0200 - val_accuracy: 0.9949\n",
      "Epoch 45/50\n",
      "520/520 [==============================] - 1s 2ms/step - loss: 0.0050 - accuracy: 0.9994 - val_loss: 0.0202 - val_accuracy: 0.9949\n",
      "Epoch 46/50\n",
      "520/520 [==============================] - 1s 2ms/step - loss: 0.0049 - accuracy: 0.9994 - val_loss: 0.0203 - val_accuracy: 0.9949\n",
      "Epoch 47/50\n",
      "520/520 [==============================] - 1s 2ms/step - loss: 0.0048 - accuracy: 0.9994 - val_loss: 0.0205 - val_accuracy: 0.9949\n",
      "Epoch 48/50\n",
      "520/520 [==============================] - 1s 2ms/step - loss: 0.0048 - accuracy: 0.9994 - val_loss: 0.0199 - val_accuracy: 0.9949\n",
      "Epoch 49/50\n",
      "520/520 [==============================] - 1s 2ms/step - loss: 0.0047 - accuracy: 0.9994 - val_loss: 0.0196 - val_accuracy: 0.9949\n",
      "Epoch 50/50\n",
      "520/520 [==============================] - 1s 2ms/step - loss: 0.0046 - accuracy: 0.9994 - val_loss: 0.0194 - val_accuracy: 0.9974\n"
     ]
    }
   ],
   "source": [
    "history = model.fit(X_train, y_train, epochs=50, batch_size=3, validation_data=(X_test, y_test))\n"
   ]
  },
  {
   "cell_type": "code",
   "execution_count": 35,
   "metadata": {},
   "outputs": [
    {
     "name": "stdout",
     "output_type": "stream",
     "text": [
      "13/13 [==============================] - 0s 2ms/step - loss: 0.0194 - accuracy: 0.9974\n",
      "Test accuracy: 0.9974\n"
     ]
    }
   ],
   "source": [
    "# Evaluate the model\n",
    "loss, accuracy = model.evaluate(X_test, y_test)\n",
    "print(f'Test accuracy: {accuracy:.4f}')"
   ]
  },
  {
   "cell_type": "code",
   "execution_count": 36,
   "metadata": {},
   "outputs": [
    {
     "name": "stdout",
     "output_type": "stream",
     "text": [
      "13/13 [==============================] - 0s 1ms/step\n",
      "R-squared: 0.98683418\n"
     ]
    },
    {
     "data": {
      "image/png": "[encoded data removed]",
      "text/plain": [
       "<Figure size 1000x600 with 1 Axes>"
      ]
     },
     "metadata": {},
     "output_type": "display_data"
    }
   ],
   "source": [
    "import matplotlib.pyplot as plt\n",
    "from sklearn.metrics import r2_score\n",
    "\n",
    "\n",
    "y_pred = model.predict(X_test)\n",
    "\n",
    "\n",
    "r2 = r2_score(y_test, y_pred)\n",
    "print(f'R-squared: {r2:.8f}')\n",
    "\n",
    "# Step 3: Plot the actual vs predicted values\n",
    "plt.figure(figsize=(10, 6))\n",
    "plt.scatter(y_test, y_pred, color='blue', alpha=0.5)\n",
    "\n",
    "plt.xlabel('Actual')\n",
    "plt.ylabel('Predicted')\n",
    "plt.title(f'Actual vs Predicted Values (R-squared = {r2:.8f})')\n",
    "plt.grid(True)\n",
    "plt.show()"
   ]
  },
  {
   "cell_type": "code",
   "execution_count": 37,
   "metadata": {},
   "outputs": [
    {
     "name": "stdout",
     "output_type": "stream",
     "text": [
      "RMSE: 0.0573\n",
      "MAD: 0.0059\n"
     ]
    }
   ],
   "source": [
    "import numpy as np\n",
    "from sklearn.metrics import mean_squared_error, mean_absolute_error\n",
    "\n",
    "\n",
    "# Calculate RMSE (Root Mean Squared Error)\n",
    "rmse = np.sqrt(mean_squared_error(y_test, y_pred))\n",
    "\n",
    "# Calculate MAD (Mean Absolute Deviation)\n",
    "mad = mean_absolute_error(y_test, y_pred)\n",
    "\n",
    "print(f'RMSE: {rmse:.4f}')\n",
    "print(f'MAD: {mad:.4f}')\n"
   ]
  },
  {
   "cell_type": "code",
   "execution_count": 38,
   "metadata": {},
   "outputs": [],
   "source": [
    "df = [y_test, y_pred]"
   ]
  },
  {
   "cell_type": "code",
   "execution_count": 60,
   "metadata": {},
   "outputs": [
    {
     "data": {
      "text/plain": [
       "390"
      ]
     },
     "execution_count": 60,
     "metadata": {},
     "output_type": "execute_result"
    }
   ],
   "source": [
    "len(y_test)"
   ]
  },
  {
   "cell_type": "code",
   "execution_count": 36,
   "metadata": {},
   "outputs": [
    {
     "data": {
      "text/plain": [
       "numpy.ndarray"
      ]
     },
     "execution_count": 36,
     "metadata": {},
     "output_type": "execute_result"
    }
   ],
   "source": [
    "type(y_test)"
   ]
  },
  {
   "cell_type": "code",
   "execution_count": 37,
   "metadata": {},
   "outputs": [],
   "source": [
    "list1= []\n",
    "test1= []\n",
    "for i in range(390):\n",
    "    if y_test[i]== 1:\n",
    "        test1.append(test1)\n",
    "        list1.append(y_pred[i])\n"
   ]
  },
  {
   "cell_type": "code",
   "execution_count": 59,
   "metadata": {},
   "outputs": [],
   "source": [
    "from sklearn.metrics import precision_score, recall_score\n",
    "\n",
    "#precision = precision_score(y_test, y_pred)\n",
    "#recall = recall_score(y_test, y_pred)\n"
   ]
  },
  {
   "cell_type": "code",
   "execution_count": 34,
   "metadata": {},
   "outputs": [],
   "source": [
    "list1= []\n",
    "for i in range(390):\n",
    "    if y_test[i]== 1:\n",
    "        list1.append(y_pred[i])\n",
    "\n",
    "    \n"
   ]
  },
  {
   "cell_type": "code",
   "execution_count": 69,
   "metadata": {},
   "outputs": [
    {
     "data": {
      "text/plain": [
       "[<matplotlib.lines.Line2D at 0x13e58db3370>]"
      ]
     },
     "execution_count": 69,
     "metadata": {},
     "output_type": "execute_result"
    },
    {
     "data": {
      "image/png": "[encoded data removed]",
      "text/plain": [
       "<Figure size 640x480 with 1 Axes>"
      ]
     },
     "metadata": {},
     "output_type": "display_data"
    }
   ],
   "source": [
    "plt.plot(list1)"
   ]
  },
  {
   "cell_type": "code",
   "execution_count": 70,
   "metadata": {},
   "outputs": [],
   "source": [
    "list1= []\n",
    "for i in range(390):\n",
    "    if y_test[i]== 0:\n",
    "        list1.append(y_pred[i])\n",
    "\n",
    "    "
   ]
  },
  {
   "cell_type": "code",
   "execution_count": 71,
   "metadata": {},
   "outputs": [
    {
     "data": {
      "text/plain": [
       "[<matplotlib.lines.Line2D at 0x13e58c8f8b0>]"
      ]
     },
     "execution_count": 71,
     "metadata": {},
     "output_type": "execute_result"
    },
    {
     "data": {
      "image/png": "[encoded data removed]",
      "text/plain": [
       "<Figure size 640x480 with 1 Axes>"
      ]
     },
     "metadata": {},
     "output_type": "display_data"
    }
   ],
   "source": [
    "plt.plot(list1)"
   ]
  }
 ],
 "metadata": {
  "kernelspec": {
   "display_name": "base",
   "language": "python",
   "name": "python3"
  },
  "language_info": {
   "codemirror_mode": {
    "name": "ipython",
    "version": 3
   },
   "file_extension": ".py",
   "mimetype": "text/x-python",
   "name": "python",
   "nbconvert_exporter": "python",
   "pygments_lexer": "ipython3",
   "version": "3.10.13"
  }
 },
 "nbformat": 4,
 "nbformat_minor": 2
}
