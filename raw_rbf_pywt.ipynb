{
 "cells": [
  {
   "cell_type": "code",
   "execution_count": 1,
   "metadata": {},
   "outputs": [
    {
     "name": "stdout",
     "output_type": "stream",
     "text": [
      "EntropyHub imported successfully!\n"
     ]
    }
   ],
   "source": [
    "import EntropyHub as EH\n",
    "print(\"EntropyHub imported successfully!\")\n"
   ]
  },
  {
   "cell_type": "code",
   "execution_count": 2,
   "metadata": {},
   "outputs": [
    {
     "data": {
      "text/html": [
       "<div>\n",
       "<style scoped>\n",
       "    .dataframe tbody tr th:only-of-type {\n",
       "        vertical-align: middle;\n",
       "    }\n",
       "\n",
       "    .dataframe tbody tr th {\n",
       "        vertical-align: top;\n",
       "    }\n",
       "\n",
       "    .dataframe thead th {\n",
       "        text-align: right;\n",
       "    }\n",
       "</style>\n",
       "<table border=\"1\" class=\"dataframe\">\n",
       "  <thead>\n",
       "    <tr style=\"text-align: right;\">\n",
       "      <th></th>\n",
       "      <th>time_stamp</th>\n",
       "      <th>Raw_V</th>\n",
       "      <th>Processed_V</th>\n",
       "    </tr>\n",
       "  </thead>\n",
       "  <tbody>\n",
       "    <tr>\n",
       "      <th>2001</th>\n",
       "      <td>2002</td>\n",
       "      <td>-0.021783</td>\n",
       "      <td>0.563329</td>\n",
       "    </tr>\n",
       "    <tr>\n",
       "      <th>2002</th>\n",
       "      <td>2003</td>\n",
       "      <td>-0.021942</td>\n",
       "      <td>0.563334</td>\n",
       "    </tr>\n",
       "    <tr>\n",
       "      <th>2003</th>\n",
       "      <td>2004</td>\n",
       "      <td>-0.022643</td>\n",
       "      <td>0.561857</td>\n",
       "    </tr>\n",
       "    <tr>\n",
       "      <th>2004</th>\n",
       "      <td>2005</td>\n",
       "      <td>-0.022812</td>\n",
       "      <td>0.561724</td>\n",
       "    </tr>\n",
       "    <tr>\n",
       "      <th>2005</th>\n",
       "      <td>2006</td>\n",
       "      <td>-0.022482</td>\n",
       "      <td>0.563008</td>\n",
       "    </tr>\n",
       "  </tbody>\n",
       "</table>\n",
       "</div>"
      ],
      "text/plain": [
       "      time_stamp     Raw_V  Processed_V\n",
       "2001        2002 -0.021783     0.563329\n",
       "2002        2003 -0.021942     0.563334\n",
       "2003        2004 -0.022643     0.561857\n",
       "2004        2005 -0.022812     0.561724\n",
       "2005        2006 -0.022482     0.563008"
      ]
     },
     "execution_count": 2,
     "metadata": {},
     "output_type": "execute_result"
    }
   ],
   "source": [
    "import pandas as pd\n",
    "import xlrd \n",
    "import numpy as np\n",
    "import sklearn\n",
    "import matplotlib.pyplot as plt\n",
    "%matplotlib inline\n",
    "from sklearn.decomposition import PCA\n",
    "from sklearn.preprocessing import StandardScaler\n",
    "from sklearn.cluster import KMeans\n",
    "import pywt\n",
    "import data_prep\n",
    "import change_name\n",
    "import Entropies \n",
    "\n",
    "\n",
    "\n",
    "  \n",
    "data_1 = pd.read_excel('D:/BTP/Dataset/VA2_1_normal#2_EEGns04MP_FP2_EC_18601_20600_es_sm.xlsx')\n",
    "\n",
    "data_2 = pd.read_excel('D:/BTP/Dataset/VA1_1_gen-epy_50898_FP2_EYES CLOSED_39353_41352_es_sm.xlsx')\n",
    "\n",
    "normal= data_1[2001:3002]\n",
    "normal.columns = ['time_stamp' , 'Raw_V', 'Processed_V']\n",
    "epy= data_2[2001:3002]\n",
    "epy.columns = ['time_stamp' , 'Raw_V', 'Processed_V']\n",
    "\n",
    "\n",
    "epy.head()"
   ]
  },
  {
   "cell_type": "code",
   "execution_count": 17,
   "metadata": {},
   "outputs": [
    {
     "data": {
      "text/plain": [
       "1001"
      ]
     },
     "execution_count": 17,
     "metadata": {},
     "output_type": "execute_result"
    }
   ],
   "source": [
    "len(normal)"
   ]
  },
  {
   "cell_type": "code",
   "execution_count": 18,
   "metadata": {},
   "outputs": [
    {
     "data": {
      "text/plain": [
       "(1001, 3)"
      ]
     },
     "execution_count": 18,
     "metadata": {},
     "output_type": "execute_result"
    }
   ],
   "source": [
    "epy.shape"
   ]
  },
  {
   "cell_type": "code",
   "execution_count": 3,
   "metadata": {},
   "outputs": [],
   "source": [
    "wavelet = 'db4'\n",
    "coeffs_epy = pywt.wavedec(epy['Raw_V'], wavelet, level=4)"
   ]
  },
  {
   "cell_type": "code",
   "execution_count": 4,
   "metadata": {},
   "outputs": [
    {
     "data": {
      "text/plain": [
       "5"
      ]
     },
     "execution_count": 4,
     "metadata": {},
     "output_type": "execute_result"
    }
   ],
   "source": [
    "len(coeffs_epy)"
   ]
  },
  {
   "cell_type": "code",
   "execution_count": 5,
   "metadata": {},
   "outputs": [],
   "source": [
    "cA_1 = np.array(coeffs_epy[0]).flatten()\n",
    "cA_2 = np.array(coeffs_epy[1]).flatten()\n",
    "cA_3 = coeffs_epy[2]\n",
    "cA_4 = coeffs_epy[3]\n",
    "cA_5 = coeffs_epy[4]"
   ]
  },
  {
   "cell_type": "code",
   "execution_count": 8,
   "metadata": {},
   "outputs": [
    {
     "data": {
      "text/plain": [
       "(69,)"
      ]
     },
     "execution_count": 8,
     "metadata": {},
     "output_type": "execute_result"
    }
   ],
   "source": [
    "cA_1.shape"
   ]
  },
  {
   "cell_type": "code",
   "execution_count": 9,
   "metadata": {},
   "outputs": [],
   "source": [
    "cA_1 = cA_1[~np.isnan(cA_1) & ~np.isinf(cA_1)]"
   ]
  },
  {
   "cell_type": "code",
   "execution_count": 10,
   "metadata": {},
   "outputs": [],
   "source": [
    "# Standardize the features (mean=0, variance=1)\n",
    "scaler = StandardScaler()\n",
    "cA_1 = scaler.fit_transform(cA_1.reshape(-1,1))"
   ]
  },
  {
   "cell_type": "markdown",
   "metadata": {},
   "source": [
    "## Checking"
   ]
  },
  {
   "cell_type": "code",
   "execution_count": 23,
   "metadata": {},
   "outputs": [],
   "source": [
    "##y = (1,1,2,3,4,10,11,12,3,3,8,9,0,8,1,1)\n",
    "##x = np.array(y).flatten()\n",
    "##SamEn = ApEn.ApEn(x, 2, 0.2*np.std(x))"
   ]
  },
  {
   "cell_type": "code",
   "execution_count": 11,
   "metadata": {},
   "outputs": [
    {
     "data": {
      "text/plain": [
       "np.float64(0.9999999999999998)"
      ]
     },
     "execution_count": 11,
     "metadata": {},
     "output_type": "execute_result"
    }
   ],
   "source": [
    "np.std(cA_1)\n"
   ]
  },
  {
   "cell_type": "code",
   "execution_count": 12,
   "metadata": {},
   "outputs": [
    {
     "name": "stdout",
     "output_type": "stream",
     "text": [
      "[2.19300294 1.65455835 1.46633707]\n",
      "[211.  39.   9.]\n",
      "[1891.  204.   39.]\n",
      "3 3\n"
     ]
    }
   ],
   "source": [
    "Sample_Entropy =  EH.SampEn(cA_1, 2)\n",
    "print(Sample_Entropy[0])\n",
    "print(Sample_Entropy[1])\n",
    "print(Sample_Entropy[2])\n",
    "print(len(Sample_Entropy), len(Sample_Entropy[0]))\n"
   ]
  },
  {
   "cell_type": "code",
   "execution_count": 24,
   "metadata": {},
   "outputs": [
    {
     "name": "stdout",
     "output_type": "stream",
     "text": [
      "Help on function SampEn in module EntropyHub._SampEn:\n",
      "\n",
      "SampEn(Sig, m=2, tau=1, r=None, Logx=np.float64(2.718281828459045), Vcp=False)\n",
      "    SampEn  estimates the sample entropy of a univariate data sequence.\n",
      "\n",
      "    .. code-block:: python\n",
      "\n",
      "        Samp, A, B = SampEn(Sig)\n",
      "\n",
      "    Returns the sample entropy estimates (``Samp``) and the number of matched state\n",
      "    vectors (``m: B``, ``m+1: A``) for ``m`` = [0, 1, 2] estimated from the data sequence (``Sig``)\n",
      "    using the default parameters: embedding dimension = 2, time delay = 1,\n",
      "    radius threshold = 0.2*SD(``Sig``), logarithm = natural.\n",
      "\n",
      "    .. code-block:: python\n",
      "\n",
      "        Samp, A, B, (Vcp, Ka, Kb) = SampEn(Sig, ..., Vcp = True)\n",
      "\n",
      "    If ``Vcp == True``, an additional tuple ``(Vcp, Ka, Kb)`` is returned with\n",
      "    the sample entropy estimates (``Samp``) and the number of matched state\n",
      "    vectors (``m: B``, ``m+1: A``). ``(Vcp, Ka, Kb)``  contains the variance of the conditional\n",
      "    probabilities (``Vcp``), i.e. CP = A/B,  and the number of **overlapping**\n",
      "    matching vector pairs of lengths m+1 (``Ka``) and m (``Kb``),\n",
      "    respectively.  Note ``Vcp`` is undefined for the zeroth embedding dimension (m = 0)\n",
      "    and due to the computational demand, **will take substantially more time to return function outputs.**\n",
      "    See Appendix B in [2] for more info.\n",
      "\n",
      "    .. code-block:: python\n",
      "\n",
      "        Samp, A, B = SampEn(Sig, keyword = value, ...)\n",
      "\n",
      "    Returns the sample entropy estimates (``Samp``) for dimensions = [0, 1, ..., ``m``]\n",
      "    estimated for the data sequence (``Sig``) using the specified keyword arguments:\n",
      "        :m:     - Embedding Dimension, a positive integer\n",
      "        :tau:   - Time Delay, a positive integer\n",
      "        :r:     - Radius Distance Threshold, a positive scalar\n",
      "        :Logx:  - Logarithm base, a positive scalar\n",
      "        :Vcp:   - Option to return variance of conditional probabilities and the number of overlapping matching vector pairs, a boolean [default: False]\n",
      "\n",
      "    :See also:\n",
      "        ``ApEn``, ``FuzzEn``, ``PermEn``, ``CondEn``, ``XSampEn``, ``SampEn2D``, ``MSEn``\n",
      "\n",
      "    :References:\n",
      "        [1] Joshua S Richman and J. Randall Moorman.\n",
      "            \"Physiological time-series analysis using approximate entropy\n",
      "            and sample entropy.\"\n",
      "            American Journal of Physiology-Heart and Circulatory Physiology\n",
      "            2000\n",
      "\n",
      "        [2]  Douglas E Lake, Joshua S Richman, M.P. Griffin, J. Randall Moorman\n",
      "            \"Sample entropy analysis of neonatal heart rate variability.\"\n",
      "            American Journal of Physiology-Regulatory, Integrative and Comparative Physiology\n",
      "            283, no. 3 (2002): R789-R797.\n",
      "\n"
     ]
    }
   ],
   "source": [
    "help(EH.SampEn)"
   ]
  },
  {
   "cell_type": "markdown",
   "metadata": {},
   "source": [
    "Fuzzzy Entropy"
   ]
  },
  {
   "cell_type": "code",
   "execution_count": 26,
   "metadata": {},
   "outputs": [
    {
     "name": "stdout",
     "output_type": "stream",
     "text": [
      "[0.4518431  0.67083266]\n",
      "[0.5        0.31938492 0.16434692]\n",
      "[0.31822701 0.16329598]\n",
      "3 2\n"
     ]
    }
   ],
   "source": [
    "\n",
    "Fuzzy_Entropy =  EH.FuzzEn(cA_1)\n",
    "print(Fuzzy_Entropy[0])\n",
    "print(Fuzzy_Entropy[1])\n",
    "print(Fuzzy_Entropy[2])\n",
    "print(len(Fuzzy_Entropy), len(Fuzzy_Entropy[0]))\n"
   ]
  },
  {
   "cell_type": "markdown",
   "metadata": {},
   "source": [
    "## Column of names"
   ]
  },
  {
   "cell_type": "code",
   "execution_count": 3,
   "metadata": {},
   "outputs": [
    {
     "name": "stdout",
     "output_type": "stream",
     "text": [
      "14\n"
     ]
    }
   ],
   "source": [
    "from change_name  import get\n",
    "\n",
    "path_to_VA = r\"C:\\Users\\HP\\OneDrive - Indian Institute of Technology Bhubaneswar\\BTP_Drive\\DATASET-2. VA2-20241204T052628Z-001\\2. VA2\\E\"\n",
    "\n",
    "columns = get(path_to_VA)"
   ]
  },
  {
   "cell_type": "code",
   "execution_count": 4,
   "metadata": {},
   "outputs": [],
   "source": [
    "Data = pd.DataFrame(columns, columns =['index'])\n",
    "Data['index'] = Data['index']+'epy'\n"
   ]
  },
  {
   "cell_type": "code",
   "execution_count": 5,
   "metadata": {},
   "outputs": [
    {
     "data": {
      "text/html": [
       "<div>\n",
       "<style scoped>\n",
       "    .dataframe tbody tr th:only-of-type {\n",
       "        vertical-align: middle;\n",
       "    }\n",
       "\n",
       "    .dataframe tbody tr th {\n",
       "        vertical-align: top;\n",
       "    }\n",
       "\n",
       "    .dataframe thead th {\n",
       "        text-align: right;\n",
       "    }\n",
       "</style>\n",
       "<table border=\"1\" class=\"dataframe\">\n",
       "  <thead>\n",
       "    <tr style=\"text-align: right;\">\n",
       "      <th></th>\n",
       "      <th>index</th>\n",
       "    </tr>\n",
       "  </thead>\n",
       "  <tbody>\n",
       "    <tr>\n",
       "      <th>0</th>\n",
       "      <td>E08.1_epy</td>\n",
       "    </tr>\n",
       "    <tr>\n",
       "      <th>1</th>\n",
       "      <td>E08.2_epy</td>\n",
       "    </tr>\n",
       "    <tr>\n",
       "      <th>2</th>\n",
       "      <td>E08.3_epy</td>\n",
       "    </tr>\n",
       "    <tr>\n",
       "      <th>3</th>\n",
       "      <td>E09.1_epy</td>\n",
       "    </tr>\n",
       "    <tr>\n",
       "      <th>4</th>\n",
       "      <td>E09.2_epy</td>\n",
       "    </tr>\n",
       "  </tbody>\n",
       "</table>\n",
       "</div>"
      ],
      "text/plain": [
       "       index\n",
       "0  E08.1_epy\n",
       "1  E08.2_epy\n",
       "2  E08.3_epy\n",
       "3  E09.1_epy\n",
       "4  E09.2_epy"
      ]
     },
     "execution_count": 5,
     "metadata": {},
     "output_type": "execute_result"
    }
   ],
   "source": [
    "Data.head()"
   ]
  },
  {
   "cell_type": "markdown",
   "metadata": {},
   "source": [
    "## NEW DATA"
   ]
  },
  {
   "cell_type": "code",
   "execution_count": 6,
   "metadata": {},
   "outputs": [],
   "source": [
    "from data_prep import extract"
   ]
  },
  {
   "cell_type": "code",
   "execution_count": 7,
   "metadata": {},
   "outputs": [],
   "source": [
    "path_to_VA = r\"C:\\Users\\HP\\OneDrive - Indian Institute of Technology Bhubaneswar\\BTP_Drive\\DATASET-2. VA2-20241204T052628Z-001\\2. VA2\\E\""
   ]
  },
  {
   "cell_type": "code",
   "execution_count": 8,
   "metadata": {},
   "outputs": [
    {
     "name": "stdout",
     "output_type": "stream",
     "text": [
      "14\n"
     ]
    }
   ],
   "source": [
    "Epy = data_prep.extract(path_to_VA)"
   ]
  },
  {
   "cell_type": "code",
   "execution_count": 9,
   "metadata": {},
   "outputs": [
    {
     "data": {
      "text/plain": [
       "14"
      ]
     },
     "execution_count": 9,
     "metadata": {},
     "output_type": "execute_result"
    }
   ],
   "source": [
    "len(Epy)"
   ]
  },
  {
   "cell_type": "code",
   "execution_count": 10,
   "metadata": {},
   "outputs": [],
   "source": [
    "e_cA_1= []\n",
    "e_cA_2= []\n",
    "e_cA_3= []\n",
    "e_cA_4= []\n",
    "e_cA_5= []\n",
    "\n",
    "for i in range(len(Epy)):\n",
    "    cA_1,cA_2,cA_3,cA_4,cA_5= Epy[i]\n",
    "    e_cA_1.append(cA_1)\n",
    "    e_cA_2.append(cA_2)\n",
    "    e_cA_3.append(cA_3)\n",
    "    e_cA_4.append(cA_4)\n",
    "    e_cA_5.append(cA_5)\n",
    "\n"
   ]
  },
  {
   "cell_type": "code",
   "execution_count": 13,
   "metadata": {},
   "outputs": [
    {
     "name": "stdout",
     "output_type": "stream",
     "text": [
      "14\n"
     ]
    }
   ],
   "source": [
    "nan_count = np.sum(np.isnan(e_cA_1[10]))\n",
    "\n",
    "print(nan_count) \n"
   ]
  },
  {
   "cell_type": "code",
   "execution_count": 14,
   "metadata": {},
   "outputs": [
    {
     "name": "stdout",
     "output_type": "stream",
     "text": [
      "14\n"
     ]
    }
   ],
   "source": [
    "print(len(e_cA_1[0]))"
   ]
  },
  {
   "cell_type": "code",
   "execution_count": 23,
   "metadata": {},
   "outputs": [
    {
     "name": "stdout",
     "output_type": "stream",
     "text": [
      "0     True\n",
      "1     True\n",
      "2     True\n",
      "3     True\n",
      "4     True\n",
      "5     True\n",
      "6     True\n",
      "7     True\n",
      "8     True\n",
      "9     True\n",
      "10    True\n",
      "11    True\n",
      "12    True\n",
      "13    True\n",
      "Name: 10, dtype: bool\n"
     ]
    }
   ],
   "source": [
    "nan_mask = e_cA_1[10].isna()\n",
    "\n",
    "print(nan_mask)"
   ]
  },
  {
   "cell_type": "code",
   "execution_count": 25,
   "metadata": {},
   "outputs": [
    {
     "data": {
      "text/plain": [
       "nan"
      ]
     },
     "execution_count": 25,
     "metadata": {},
     "output_type": "execute_result"
    }
   ],
   "source": [
    "np.std(e_cA_1[10].dropna())"
   ]
  },
  {
   "cell_type": "code",
   "execution_count": 27,
   "metadata": {},
   "outputs": [
    {
     "name": "stdout",
     "output_type": "stream",
     "text": [
      "14\n"
     ]
    },
    {
     "data": {
      "image/png": "[encoded data removed]",
      "text/plain": [
       "<Figure size 640x480 with 1 Axes>"
      ]
     },
     "metadata": {},
     "output_type": "display_data"
    }
   ],
   "source": [
    "# import matplotlib.pyplot library \n",
    "import matplotlib.pyplot as plt \n",
    "  \n",
    "plt.stem(e_cA_1[10])\n",
    "print(len(e_cA_1[10]))"
   ]
  },
  {
   "cell_type": "code",
   "execution_count": 28,
   "metadata": {},
   "outputs": [],
   "source": [
    "cA_1 = cA_1[~np.isnan(cA_1) & ~np.isinf(cA_1)]\n"
   ]
  },
  {
   "cell_type": "code",
   "execution_count": 29,
   "metadata": {},
   "outputs": [
    {
     "ename": "AssertionError",
     "evalue": "Sig:   must be a numpy vector",
     "output_type": "error",
     "traceback": [
      "\u001b[1;31m---------------------------------------------------------------------------\u001b[0m",
      "\u001b[1;31mAssertionError\u001b[0m                            Traceback (most recent call last)",
      "Cell \u001b[1;32mIn[29], line 1\u001b[0m\n\u001b[1;32m----> 1\u001b[0m (\u001b[43mEH\u001b[49m\u001b[38;5;241;43m.\u001b[39;49m\u001b[43mSampEn\u001b[49m\u001b[43m(\u001b[49m\u001b[43me_cA_1\u001b[49m\u001b[43m[\u001b[49m\u001b[38;5;241;43m10\u001b[39;49m\u001b[43m]\u001b[49m\u001b[38;5;241;43m.\u001b[39;49m\u001b[43mdropna\u001b[49m\u001b[43m(\u001b[49m\u001b[43m)\u001b[49m\u001b[43m,\u001b[49m\u001b[43m \u001b[49m\u001b[38;5;241;43m2\u001b[39;49m\u001b[43m)\u001b[49m)\n\u001b[0;32m      2\u001b[0m (EH\u001b[38;5;241m.\u001b[39mFuzzEn(e_cA_1[\u001b[38;5;241m10\u001b[39m]))\n",
      "File \u001b[1;32md:\\BTP\\RBF_BTP\\btp\\Lib\\site-packages\\EntropyHub\\_SampEn.py:62\u001b[0m, in \u001b[0;36mSampEn\u001b[1;34m(Sig, m, tau, r, Logx, Vcp)\u001b[0m\n\u001b[0;32m     59\u001b[0m \u001b[38;5;28;01mif\u001b[39;00m r \u001b[38;5;129;01mis\u001b[39;00m \u001b[38;5;28;01mNone\u001b[39;00m:\n\u001b[0;32m     60\u001b[0m     r \u001b[38;5;241m=\u001b[39m \u001b[38;5;241m0.2\u001b[39m\u001b[38;5;241m*\u001b[39mnp\u001b[38;5;241m.\u001b[39mstd(Sig)\n\u001b[1;32m---> 62\u001b[0m \u001b[38;5;28;01massert\u001b[39;00m N\u001b[38;5;241m>\u001b[39m\u001b[38;5;241m10\u001b[39m \u001b[38;5;129;01mand\u001b[39;00m Sig\u001b[38;5;241m.\u001b[39mndim \u001b[38;5;241m==\u001b[39m \u001b[38;5;241m1\u001b[39m,  \u001b[38;5;124m\"\u001b[39m\u001b[38;5;124mSig:   must be a numpy vector\u001b[39m\u001b[38;5;124m\"\u001b[39m\n\u001b[0;32m     63\u001b[0m \u001b[38;5;28;01massert\u001b[39;00m \u001b[38;5;28misinstance\u001b[39m(m,\u001b[38;5;28mint\u001b[39m) \u001b[38;5;129;01mand\u001b[39;00m (m \u001b[38;5;241m>\u001b[39m \u001b[38;5;241m0\u001b[39m), \u001b[38;5;124m\"\u001b[39m\u001b[38;5;124mm:     must be an integer > 0\u001b[39m\u001b[38;5;124m\"\u001b[39m\n\u001b[0;32m     64\u001b[0m \u001b[38;5;28;01massert\u001b[39;00m \u001b[38;5;28misinstance\u001b[39m(tau,\u001b[38;5;28mint\u001b[39m) \u001b[38;5;129;01mand\u001b[39;00m (tau \u001b[38;5;241m>\u001b[39m \u001b[38;5;241m0\u001b[39m), \u001b[38;5;124m\"\u001b[39m\u001b[38;5;124mtau:   must be an integer > 0\u001b[39m\u001b[38;5;124m\"\u001b[39m\n",
      "\u001b[1;31mAssertionError\u001b[0m: Sig:   must be a numpy vector"
     ]
    }
   ],
   "source": [
    "(EH.SampEn(e_cA_1[10].dropna(), 2))\n",
    "(EH.FuzzEn(e_cA_1[10]))"
   ]
  },
  {
   "cell_type": "code",
   "execution_count": 37,
   "metadata": {},
   "outputs": [
    {
     "ename": "AssertionError",
     "evalue": "r:     must be a positive value",
     "output_type": "error",
     "traceback": [
      "\u001b[1;31m---------------------------------------------------------------------------\u001b[0m",
      "\u001b[1;31mAssertionError\u001b[0m                            Traceback (most recent call last)",
      "Cell \u001b[1;32mIn[37], line 5\u001b[0m\n\u001b[0;32m      2\u001b[0m Fuzzy_Entropy_epy \u001b[38;5;241m=\u001b[39m  []\n\u001b[0;32m      4\u001b[0m \u001b[38;5;28;01mfor\u001b[39;00m i \u001b[38;5;129;01min\u001b[39;00m \u001b[38;5;28mrange\u001b[39m(\u001b[38;5;28mlen\u001b[39m(e_cA_1)):\n\u001b[1;32m----> 5\u001b[0m     Sample_Entropy_epy\u001b[38;5;241m.\u001b[39mappend(\u001b[43mEH\u001b[49m\u001b[38;5;241;43m.\u001b[39;49m\u001b[43mSampEn\u001b[49m\u001b[43m(\u001b[49m\u001b[43me_cA_1\u001b[49m\u001b[43m[\u001b[49m\u001b[43mi\u001b[49m\u001b[43m]\u001b[49m\u001b[43m,\u001b[49m\u001b[43m \u001b[49m\u001b[38;5;241;43m2\u001b[39;49m\u001b[43m)\u001b[49m)\n\u001b[0;32m      6\u001b[0m     Fuzzy_Entropy_epy\u001b[38;5;241m.\u001b[39mappend(EH\u001b[38;5;241m.\u001b[39mFuzzEn(e_cA_1[i]))\n",
      "File \u001b[1;32md:\\BTP\\RBF_BTP\\btp\\Lib\\site-packages\\EntropyHub\\_SampEn.py:65\u001b[0m, in \u001b[0;36mSampEn\u001b[1;34m(Sig, m, tau, r, Logx, Vcp)\u001b[0m\n\u001b[0;32m     63\u001b[0m \u001b[38;5;28;01massert\u001b[39;00m \u001b[38;5;28misinstance\u001b[39m(m,\u001b[38;5;28mint\u001b[39m) \u001b[38;5;129;01mand\u001b[39;00m (m \u001b[38;5;241m>\u001b[39m \u001b[38;5;241m0\u001b[39m), \u001b[38;5;124m\"\u001b[39m\u001b[38;5;124mm:     must be an integer > 0\u001b[39m\u001b[38;5;124m\"\u001b[39m\n\u001b[0;32m     64\u001b[0m \u001b[38;5;28;01massert\u001b[39;00m \u001b[38;5;28misinstance\u001b[39m(tau,\u001b[38;5;28mint\u001b[39m) \u001b[38;5;129;01mand\u001b[39;00m (tau \u001b[38;5;241m>\u001b[39m \u001b[38;5;241m0\u001b[39m), \u001b[38;5;124m\"\u001b[39m\u001b[38;5;124mtau:   must be an integer > 0\u001b[39m\u001b[38;5;124m\"\u001b[39m\n\u001b[1;32m---> 65\u001b[0m \u001b[38;5;28;01massert\u001b[39;00m \u001b[38;5;28misinstance\u001b[39m(r,(\u001b[38;5;28mint\u001b[39m,\u001b[38;5;28mfloat\u001b[39m)) \u001b[38;5;129;01mand\u001b[39;00m (r\u001b[38;5;241m>\u001b[39m\u001b[38;5;241m=\u001b[39m\u001b[38;5;241m0\u001b[39m), \u001b[38;5;124m\"\u001b[39m\u001b[38;5;124mr:     must be a positive value\u001b[39m\u001b[38;5;124m\"\u001b[39m\n\u001b[0;32m     66\u001b[0m \u001b[38;5;28;01massert\u001b[39;00m \u001b[38;5;28misinstance\u001b[39m(Logx,(\u001b[38;5;28mint\u001b[39m,\u001b[38;5;28mfloat\u001b[39m)) \u001b[38;5;129;01mand\u001b[39;00m (Logx\u001b[38;5;241m>\u001b[39m\u001b[38;5;241m0\u001b[39m), \u001b[38;5;124m\"\u001b[39m\u001b[38;5;124mLogx:     must be a positive value\u001b[39m\u001b[38;5;124m\"\u001b[39m\n\u001b[0;32m     67\u001b[0m \u001b[38;5;28;01massert\u001b[39;00m \u001b[38;5;28misinstance\u001b[39m(Vcp,\u001b[38;5;28mbool\u001b[39m), \u001b[38;5;124m\"\u001b[39m\u001b[38;5;124mVcp:     must be a Boolean\u001b[39m\u001b[38;5;124m\"\u001b[39m    \n",
      "\u001b[1;31mAssertionError\u001b[0m: r:     must be a positive value"
     ]
    }
   ],
   "source": [
    "Sample_Entropy_epy =  []\n",
    "Fuzzy_Entropy_epy =  []\n",
    "\n",
    "for i in range(len(e_cA_1)):\n",
    "    Sample_Entropy_epy.append(EH.SampEn(e_cA_1[i], 2))\n",
    "    Fuzzy_Entropy_epy.append(EH.FuzzEn(e_cA_1[i]))"
   ]
  },
  {
   "cell_type": "markdown",
   "metadata": {},
   "source": [
    "## Normal"
   ]
  },
  {
   "cell_type": "code",
   "execution_count": 13,
   "metadata": {},
   "outputs": [],
   "source": [
    "path  = r\"C:\\Users\\HP\\OneDrive - Indian Institute of Technology Bhubaneswar\\BTP_Drive\\DATASET-2. VA2-20241204T052628Z-001\\2. VA2\\NE\""
   ]
  },
  {
   "cell_type": "code",
   "execution_count": 14,
   "metadata": {},
   "outputs": [
    {
     "name": "stdout",
     "output_type": "stream",
     "text": [
      "11\n"
     ]
    }
   ],
   "source": [
    "Normal = data_prep.extract(path)"
   ]
  },
  {
   "cell_type": "code",
   "execution_count": 15,
   "metadata": {},
   "outputs": [],
   "source": [
    "n_cA_1= []\n",
    "n_cA_2= []\n",
    "n_cA_3= []\n",
    "n_cA_4= []\n",
    "n_cA_5= []\n",
    "\n",
    "for i in range(len(Normal)):\n",
    "    cA_1,cA_2,cA_3,cA_4,cA_5 = Normal[i]\n",
    "    n_cA_1.append(cA_1)\n",
    "    n_cA_2.append(cA_2)\n",
    "    n_cA_3.append(cA_3)\n",
    "    n_cA_4.append(cA_4)\n",
    "    n_cA_5.append(cA_5)\n",
    "\n"
   ]
  },
  {
   "cell_type": "code",
   "execution_count": 16,
   "metadata": {},
   "outputs": [
    {
     "data": {
      "text/plain": [
       "11"
      ]
     },
     "execution_count": 16,
     "metadata": {},
     "output_type": "execute_result"
    }
   ],
   "source": [
    "len(n_cA_1)"
   ]
  },
  {
   "cell_type": "markdown",
   "metadata": {},
   "source": [
    "##  DATA :"
   ]
  },
  {
   "cell_type": "code",
   "execution_count": null,
   "metadata": {},
   "outputs": [
    {
     "ename": "NameError",
     "evalue": "name 'pd' is not defined",
     "output_type": "error",
     "traceback": [
      "\u001b[1;31m---------------------------------------------------------------------------\u001b[0m",
      "\u001b[1;31mNameError\u001b[0m                                 Traceback (most recent call last)",
      "Cell \u001b[1;32mIn[1], line 1\u001b[0m\n\u001b[1;32m----> 1\u001b[0m Features \u001b[38;5;241m=\u001b[39m \u001b[43mpd\u001b[49m\u001b[38;5;241m.\u001b[39mDataFrame()\n",
      "\u001b[1;31mNameError\u001b[0m: name 'pd' is not defined"
     ]
    }
   ],
   "source": [
    "Features = pd.DataFrame()\n"
   ]
  },
  {
   "cell_type": "code",
   "execution_count": 25,
   "metadata": {},
   "outputs": [],
   "source": [
    "cA_1=[]\n",
    "for i in range(len(n_cA_1)):\n",
    "    cA_1.append(n_cA_1[i])\n",
    "for j in range(len(e_cA_1)):\n",
    "    cA_1.append(e_cA_1[j])  \n",
    "\n"
   ]
  },
  {
   "cell_type": "code",
   "execution_count": 26,
   "metadata": {},
   "outputs": [],
   "source": [
    "cA_2=[]\n",
    "for i in range(len(n_cA_1)):\n",
    "    cA_2.append(n_cA_2[i])\n",
    "for j in range(len(e_cA_1)):\n",
    "    cA_2.append(e_cA_2[j])  "
   ]
  },
  {
   "cell_type": "code",
   "execution_count": 27,
   "metadata": {},
   "outputs": [],
   "source": [
    "cA_3=[]\n",
    "for i in range(len(n_cA_1)):\n",
    "    cA_3.append(n_cA_3[i])\n",
    "for j in range(len(e_cA_1)):\n",
    "    cA_3.append(e_cA_3[j])  "
   ]
  },
  {
   "cell_type": "code",
   "execution_count": null,
   "metadata": {},
   "outputs": [],
   "source": [
    "\n",
    "\n"
   ]
  }
 ],
 "metadata": {
  "kernelspec": {
   "display_name": "btp",
   "language": "python",
   "name": "python3"
  },
  "language_info": {
   "codemirror_mode": {
    "name": "ipython",
    "version": 3
   },
   "file_extension": ".py",
   "mimetype": "text/x-python",
   "name": "python",
   "nbconvert_exporter": "python",
   "pygments_lexer": "ipython3",
   "version": "3.12.8"
  }
 },
 "nbformat": 4,
 "nbformat_minor": 2
}
